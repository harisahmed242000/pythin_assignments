{
 "cells": [
  {
   "cell_type": "markdown",
   "metadata": {},
   "source": [
    "# Question 1"
   ]
  },
  {
   "cell_type": "markdown",
   "metadata": {},
   "source": [
    "An object oriented programming (OOP) is basicallya programming language containing data in the form of objects.Its main features are (Encapsulation,Inheritance,Abstraction,Polymorphism).\n"
   ]
  },
  {
   "cell_type": "markdown",
   "metadata": {},
   "source": [
    "# Question 2"
   ]
  },
  {
   "cell_type": "markdown",
   "metadata": {},
   "source": [
    "# Advantages"
   ]
  },
  {
   "cell_type": "markdown",
   "metadata": {},
   "source": [
    "1.In OOP trouble shooting and debugging is very easy as compared to traditional languages.\n",
    "\n",
    "2.OOP makes software development musch faster and efficiant.\n",
    "\n",
    "3.OOP allows the creation of subclasses, which then inherit al the methods and properties of the main class.\n",
    "\n",
    "4.OOP provides a great feature of code reuseability meaning that we can use a code many times in a program.\n"
   ]
  },
  {
   "cell_type": "markdown",
   "metadata": {},
   "source": [
    "# Question 3"
   ]
  },
  {
   "cell_type": "markdown",
   "metadata": {},
   "source": [
    "# Functions"
   ]
  },
  {
   "cell_type": "markdown",
   "metadata": {},
   "source": [
    "A function is a block of code to carry out a specific task, will contain its own scope and is called by name. All functions may contain zero arguments or more than one arguments. On exit, a function can or can not return one or more values.\n"
   ]
  },
  {
   "cell_type": "markdown",
   "metadata": {},
   "source": [
    "# Methods\n"
   ]
  },
  {
   "cell_type": "markdown",
   "metadata": {},
   "source": [
    "A method in python is somewhat similar to a function, except it is associated with object/classes. Methods in python are very similar to functions except for two major differences.\n",
    "\n",
    "The method is implicitly used for an object for which it is called.\n",
    "\n",
    "The method is accessible to data that is contained within the class."
   ]
  },
  {
   "cell_type": "markdown",
   "metadata": {},
   "source": [
    "# Question 4"
   ]
  },
  {
   "cell_type": "markdown",
   "metadata": {},
   "source": [
    "# Class\n"
   ]
  },
  {
   "cell_type": "markdown",
   "metadata": {},
   "source": [
    "They allow us to logically group data and functions in a manner that is easy to reuse and build upon in the future. "
   ]
  },
  {
   "cell_type": "markdown",
   "metadata": {},
   "source": [
    "# Objects"
   ]
  },
  {
   "cell_type": "markdown",
   "metadata": {},
   "source": [
    "An object is created using the constructor of the class"
   ]
  },
  {
   "cell_type": "markdown",
   "metadata": {},
   "source": [
    "# Attribute"
   ]
  },
  {
   "cell_type": "markdown",
   "metadata": {},
   "source": [
    "attribute is a Python variable belonging to one, and only one, object\n"
   ]
  },
  {
   "cell_type": "markdown",
   "metadata": {},
   "source": [
    "# Behavior"
   ]
  },
  {
   "cell_type": "markdown",
   "metadata": {},
   "source": [
    "Objects in Python are generally classified according to their behaviors and the features that they implement"
   ]
  },
  {
   "cell_type": "markdown",
   "metadata": {},
   "source": [
    "# Question 5\n",
    "\n"
   ]
  },
  {
   "cell_type": "code",
   "execution_count": 10,
   "metadata": {},
   "outputs": [
    {
     "name": "stdout",
     "output_type": "stream",
     "text": [
      "The car isBentleyIts color isBlackand its year of production is2018also its brand isBentley\n",
      "The car isBentleyIts color isBlackand its year of production is2018also its brand isBentley\n",
      "The car isBentleyIts color isBlackand its year of production is2018also its brand isBentley\n",
      "The car isBentleyIts color isBlackand its year of production is2018also its brand isBentley\n",
      "The car isBentleyIts color isBlackand its year of production is2018also its brand isBentley\n"
     ]
    }
   ],
   "source": [
    "class Car:\n",
    "    def __init__(self,name,color,brand,year):\n",
    "        self.name = name\n",
    "        self.color = color\n",
    "        self.brand = brand\n",
    "        self.year = year\n",
    "    def car_info(self):\n",
    "        info = f\"The car is{self.name}Its color is{self.color}and its year of production is{self.year}also its brand is{self.brand}\"\n",
    "        print(info)\n",
    "        \n",
    "car1 = Car(\"Bentley\",\"Black\",\"Bentley\",2018)\n",
    "car2 = Car(\"Mehran\",\"white\",\"Suzuki\",2013)\n",
    "car3 = Car(\"Aulto\",\"maroon\",\"Suzuki\",2018)\n",
    "car4 = Car(\"Corola\",\"Black\",\"Toyota\",2019)\n",
    "car5 = Car(\"City\",\"Black\",\"Toyota\",2020)\n",
    "\n",
    "car1.car_info()\n",
    "car2.car_info()\n",
    "car3.car_info()\n",
    "car4.car_info()\n",
    "car5.car_info()\n"
   ]
  },
  {
   "cell_type": "code",
   "execution_count": null,
   "metadata": {},
   "outputs": [],
   "source": []
  }
 ],
 "metadata": {
  "kernelspec": {
   "display_name": "Python 3",
   "language": "python",
   "name": "python3"
  },
  "language_info": {
   "codemirror_mode": {
    "name": "ipython",
    "version": 3
   },
   "file_extension": ".py",
   "mimetype": "text/x-python",
   "name": "python",
   "nbconvert_exporter": "python",
   "pygments_lexer": "ipython3",
   "version": "3.7.3"
  }
 },
 "nbformat": 4,
 "nbformat_minor": 2
}
