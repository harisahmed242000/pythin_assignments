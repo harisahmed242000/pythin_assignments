{
 "cells": [
  {
   "cell_type": "markdown",
   "metadata": {},
   "source": [
    "# Question1\n"
   ]
  },
  {
   "cell_type": "code",
   "execution_count": 18,
   "metadata": {},
   "outputs": [
    {
     "name": "stdout",
     "output_type": "stream",
     "text": [
      "The current dictonary is\n",
      " {'First_name': 'haris', 'Last_name': 'ahmed', 'age': 19, 'nationality': 'Pakistani'}\n",
      "The man is harisahmed and his age is 19 and he is also Pakistani\n",
      "\n",
      "The new dictonary is\n",
      " {'First_name': 'haris', 'Last_name': 'ahmed', 'age': 19, 'nationality': 'Pakistani', 'Qualification': 'undergraduate'}\n",
      "\n",
      "The updated dictonary is\n",
      " {'First_name': 'haris', 'Last_name': 'ahmed', 'age': 19, 'nationality': 'Pakistani', 'Qualification': 'high academic level'}\n",
      "\n",
      "The deleted dictonary is\n",
      " {'First_name': 'haris', 'Last_name': 'ahmed', 'age': 19, 'nationality': 'Pakistani'}\n"
     ]
    }
   ],
   "source": [
    "my_person = {\"First_name\":\"haris\",\"Last_name\":\"ahmed\",\"age\":19,\"nationality\":\"Pakistani\"}\n",
    "print(\"The current dictonary is\\n\",my_person)\n",
    "first_name = my_person[\"First_name\"]\n",
    "last_name = my_person[\"Last_name\"]\n",
    "age = my_person[\"age\"]\n",
    "nationality = my_person[\"nationality\"]\n",
    "output = f\"The man is {first_name}{last_name} and his age is {age} and he is also {nationality}\\n\"\n",
    "print(output)\n",
    "\n",
    "#OR we can do the above task using loops\n",
    "\n",
    "#for each_key ,each_value in my_person.item():\n",
    "#    print(\"The person's\"+each_key+\"is\"+each_value+)\n",
    "\n",
    "my_person[\"Qualification\"] = \"undergraduate\"\n",
    "print(\"The new dictonary is\\n\",my_person)\n",
    "qualification = {\"Qalification\":\"high academic level\"}\n",
    "my_person[\"Qualification\"] = \"high academic level\"\n",
    "print(\"\\nThe updated dictonary is\\n\",my_person)\n",
    "\n",
    "del my_person[\"Qualification\"]\n",
    "print(\"\\nThe deleted dictonary is\\n\",my_person)\n",
    "\n",
    "\n"
   ]
  },
  {
   "cell_type": "markdown",
   "metadata": {},
   "source": [
    "# Question2"
   ]
  },
  {
   "cell_type": "code",
   "execution_count": 36,
   "metadata": {},
   "outputs": [
    {
     "name": "stdout",
     "output_type": "stream",
     "text": [
      "The City name is: Karachi\n",
      "Country: Pakistan\n",
      "Population: 15741000\n",
      "Fact: Karachi is the THIRD CHEAPEST CITY in the WORLD.\n",
      "The City name is: Mumbai\n",
      "Country: India\n",
      "Population: 20190000\n",
      "Fact: Mumbai trains carry 200,000 custom-made lunches every day, delivered around the city by 5,000 white-garbed couriers called dabbahwallas.\n",
      "The City name is: Dhaka\n",
      "Country: Bangladesh\n",
      "Population: 20628000\n",
      "Fact: Dhaka is the city of mosques. There are several hundred of them within the locale, both modern and historical structures.\n"
     ]
    }
   ],
   "source": [
    "cities = {\n",
    "    \"Karachi\":{\"Country\":\"Pakistan\",\"Population\":15741000,\"Fact\":\"Karachi is the THIRD CHEAPEST CITY in the WORLD.\"},\n",
    "    \"Mumbai\":{\"Country\":\"India\",\"Population\":20190000,\"Fact\":\"Mumbai trains carry 200,000 custom-made lunches every day, delivered around the city by 5,000 white-garbed couriers called dabbahwallas.\"},\n",
    "    \"Dhaka\":{\"Country\":\"Bangladesh\",\"Population\":20628000,\"Fact\":\"Dhaka is the city of mosques. There are several hundred of them within the locale, both modern and historical structures.\"}\n",
    "}\n",
    "for each_key,each_value in cities.items():\n",
    "    print(\"The City name is:\",each_key)\n",
    "    for key in each_value:\n",
    "        print(key +':',each_value[key])\n",
    "\n",
    "\n"
   ]
  },
  {
   "cell_type": "markdown",
   "metadata": {},
   "source": [
    "# Question3"
   ]
  },
  {
   "cell_type": "code",
   "execution_count": null,
   "metadata": {},
   "outputs": [
    {
     "name": "stdout",
     "output_type": "stream",
     "text": [
      "Please Enter your full name:haris ahmed\n",
      "Please enter your age:2\n",
      "You are too young to bye tickets haris ahmed\n",
      "\n",
      "\n"
     ]
    }
   ],
   "source": [
    "while True:    \n",
    "    name = input(\"Please Enter your full name:\")\n",
    "    age = int(input(\"Please enter your age:\"))\n",
    "    \n",
    "    if age < 3 and age >0:\n",
    "        print(\"You are too young to bye tickets\",name)\n",
    "        print(\"\\n\")\n",
    "      \n",
    "    if age < 12 and age >3:\n",
    "        print(\"Your total amount is $10:\",name)\n",
    "        print(\"\\n\")\n",
    "        \n",
    "    if age > 12:\n",
    "        print(\"Your total amount is $15:\",name)\n",
    "        print(\"\\n\")\n"
   ]
  },
  {
   "cell_type": "markdown",
   "metadata": {},
   "source": [
    "# Question4 "
   ]
  },
  {
   "cell_type": "code",
   "execution_count": 1,
   "metadata": {},
   "outputs": [
    {
     "name": "stdout",
     "output_type": "stream",
     "text": [
      "My favourite book is  Harry Potter\n",
      "None\n"
     ]
    }
   ],
   "source": [
    "def fav_book(title):\n",
    "    print(\"My favourite book is \",title)\n",
    "a = fav_book(\"Harry Potter\")\n",
    "print(a)"
   ]
  },
  {
   "cell_type": "markdown",
   "metadata": {},
   "source": [
    "# Question 5"
   ]
  },
  {
   "cell_type": "code",
   "execution_count": 4,
   "metadata": {},
   "outputs": [
    {
     "name": "stdout",
     "output_type": "stream",
     "text": [
      "\n",
      "Welcome to the number guessing game.\n",
      "\n",
      "You have THREE lifes.\n",
      "\n",
      "We are going to generate a ramdom number ranging from 1 to 30.\n",
      "\n",
      "Try to guess it.\n",
      "\n",
      "For each right answer you will get 1 point.\n",
      "\n",
      "Let the game begin!!!!!\n",
      "\n",
      "Enter the number:4\n",
      "\n",
      "Sorry your answer is not correct                                   (your score:) 0\n",
      "None\n",
      "\n",
      "You have 2 life's left play wisely\n",
      "The number was 17\n",
      "\n",
      "Enter the number:9\n",
      "\n",
      "Sorry your answer is not correct                                   (your score:) 0\n",
      "None\n",
      "\n",
      "You have 1 life's left play wisely\n",
      "The number was 14\n",
      "\n",
      "Enter the number:30\n",
      "\n",
      "Sorry your answer is not correct                                   (your score:) 0\n",
      "None\n",
      "\n",
      "You have 0 life's left play wisely\n",
      "The number was 27\n",
      "Better luck next time\n",
      "-------------------------x-------------------------\n",
      "                     Game Over                     \n",
      "-------------------------x-------------------------\n"
     ]
    }
   ],
   "source": [
    "#Number guess quiz\n",
    "from random import randint\n",
    "print(\"\\nWelcome to the number guessing game.\")\n",
    "print(\"\\nYou have THREE lifes.\")\n",
    "print(\"\\nWe are going to generate a ramdom number ranging from 1 to 30.\")\n",
    "print(\"\\nTry to guess it.\")\n",
    "print(\"\\nFor each right answer you will get 1 point.\")\n",
    "print(\"\\nLet the game begin!!!!!\")\n",
    "life = 3\n",
    "while life > 0:\n",
    "    for i in range(3):\n",
    "        value = randint(0,30)\n",
    "        counter = 0\n",
    "        usr_option = input(\"\\nEnter the number:\")\n",
    "        if usr_option == value:\n",
    "            counter += 1\n",
    "            print(\"\\nvery good you are correct                                   (your score:)\",counter)\n",
    "            print(\"The number was\",value)\n",
    "        else:\n",
    "            life -= 1\n",
    "            print(print(\"\\nSorry your answer is not correct                                   (your score:)\",counter))\n",
    "            print(\"\\nYou have \"+str(life)+\" life's left play wisely\" )\n",
    "            print(\"The number was\",value)\n",
    "        if life == 0:\n",
    "            print(\"Better luck next time\")\n",
    "            print(\"-------------------------x-------------------------\")\n",
    "            print(\"                     Game Over                     \")\n",
    "            print(\"-------------------------x-------------------------\")\n"
   ]
  },
  {
   "cell_type": "code",
   "execution_count": null,
   "metadata": {},
   "outputs": [],
   "source": []
  },
  {
   "cell_type": "code",
   "execution_count": null,
   "metadata": {},
   "outputs": [],
   "source": []
  },
  {
   "cell_type": "code",
   "execution_count": null,
   "metadata": {},
   "outputs": [],
   "source": []
  }
 ],
 "metadata": {
  "kernelspec": {
   "display_name": "Python 3",
   "language": "python",
   "name": "python3"
  },
  "language_info": {
   "codemirror_mode": {
    "name": "ipython",
    "version": 3
   },
   "file_extension": ".py",
   "mimetype": "text/x-python",
   "name": "python",
   "nbconvert_exporter": "python",
   "pygments_lexer": "ipython3",
   "version": "3.7.3"
  }
 },
 "nbformat": 4,
 "nbformat_minor": 2
}
