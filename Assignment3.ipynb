{
 "cells": [
  {
   "cell_type": "markdown",
   "metadata": {},
   "source": [
    "# Question 1"
   ]
  },
  {
   "cell_type": "code",
   "execution_count": 1,
   "metadata": {},
   "outputs": [
    {
     "name": "stdout",
     "output_type": "stream",
     "text": [
      "What funtion do you want to perform\n",
      "1.Addition\n",
      "2.Subtraction\n",
      "3.Multiplication\n",
      "4.Division\n",
      "5.Power function\n",
      "Enter option in number:5\n",
      "Enter first number24\n",
      "Enter second number2\n",
      "576\n"
     ]
    }
   ],
   "source": [
    "# Calculator\n",
    "print(\"What funtion do you want to perform\")\n",
    "\n",
    "print(\"1.Addition\")\n",
    "print(\"2.Subtraction\")\n",
    "print(\"3.Multiplication\")\n",
    "print(\"4.Division\")\n",
    "print(\"5.Power function\")\n",
    "\n",
    "option = input(\"Enter option in number:\")\n",
    "\n",
    "number1 = int(input(\"Enter first number\"))\n",
    "number2 = int(input(\"Enter second number\"))\n",
    "\n",
    "if option == \"1\":\n",
    "    number = number1 + number2\n",
    "    print(number)\n",
    "elif option == \"2\":\n",
    "    number = number1 - number2\n",
    "    print(number)\n",
    "elif option == \"3\":\n",
    "    number = number1 * number2\n",
    "    print(number)\n",
    "elif option == \"4\":\n",
    "    number = number1 / number2\n",
    "    print(number)\n",
    "    \n",
    "elif option == \"5\":\n",
    "    number = number1**number2\n",
    "    print(number)\n"
   ]
  },
  {
   "cell_type": "markdown",
   "metadata": {},
   "source": [
    "# Question 2"
   ]
  },
  {
   "cell_type": "code",
   "execution_count": 9,
   "metadata": {},
   "outputs": [
    {
     "name": "stdout",
     "output_type": "stream",
     "text": [
      "enter value to be inserted in listasd\n",
      "enter value to be inserted in listad\n",
      "enter value to be inserted in listasd\n",
      "enter value to be inserted in list32\n",
      "[]\n"
     ]
    }
   ],
   "source": [
    "list_numbers = []\n",
    "number_list = []\n",
    "\n",
    "for i in range(4):\n",
    "    value = str(input(\"enter value to be inserted in list\"))\n",
    "    if value == value.isdigit():\n",
    "        number_list.append(value)\n",
    "    else:\n",
    "        list_numbers.append(value)\n",
    "print(number_list)"
   ]
  },
  {
   "cell_type": "markdown",
   "metadata": {},
   "source": [
    "# Question 3\n"
   ]
  },
  {
   "cell_type": "code",
   "execution_count": 2,
   "metadata": {},
   "outputs": [
    {
     "name": "stdout",
     "output_type": "stream",
     "text": [
      "Existing dictonary is {'first_name': 'haris', 'last_name': 'ahmed'}\n",
      "Please enter a new key for dictonaryaddress\n",
      "please enter a new value for that keynorth nazimabad karachi\n",
      "{'first_name': 'haris', 'last_name': 'ahmed', 'address': 'north nazimabad karachi'}\n"
     ]
    }
   ],
   "source": [
    "dictonary = {\"first_name\":\"haris\",\"last_name\":\"ahmed\"}\n",
    "print(\"Existing dictonary is\",dictonary)\n",
    "new_key = input(\"Please enter a new key for dictonary\")\n",
    "new_value = input(\"please enter a new value for that key\")\n",
    "dictonary[new_key] = new_value\n",
    "print(dictonary)\n",
    "\n"
   ]
  },
  {
   "cell_type": "markdown",
   "metadata": {},
   "source": [
    "# Question 4"
   ]
  },
  {
   "cell_type": "code",
   "execution_count": 3,
   "metadata": {},
   "outputs": [
    {
     "name": "stdout",
     "output_type": "stream",
     "text": [
      "2460\n"
     ]
    }
   ],
   "source": [
    "dictonary1 = {\"age\":12,\"numbers\":2448}\n",
    "print(sum(dictonary1.values()))\n"
   ]
  },
  {
   "cell_type": "markdown",
   "metadata": {},
   "source": [
    "# Question 5"
   ]
  },
  {
   "cell_type": "code",
   "execution_count": 4,
   "metadata": {},
   "outputs": [
    {
     "name": "stdout",
     "output_type": "stream",
     "text": [
      "List without duplicates [2, 4, 10, 20, 5]\n",
      "List of duplicates [2, 4, 10, 20, 5, 2, 20, 4]\n"
     ]
    }
   ],
   "source": [
    "duplicate = [2, 4, 10, 20, 5, 2, 20, 4] \n",
    "final_list = [] \n",
    "duplicated_numbers = [] \n",
    "for num in duplicate: \n",
    "    if num not in final_list: \n",
    "        final_list.append(num) \n",
    "    if num in final_list:\n",
    "        duplicated_numbers.append(num)\n",
    "print(\"List without duplicates\",final_list)\n",
    "print(\"List of duplicates\",duplicated_numbers)"
   ]
  },
  {
   "cell_type": "markdown",
   "metadata": {},
   "source": [
    "# Question 6"
   ]
  },
  {
   "cell_type": "code",
   "execution_count": 8,
   "metadata": {},
   "outputs": [
    {
     "name": "stdout",
     "output_type": "stream",
     "text": [
      "Existing dictonary is {'first_name': 'haris', 'last_name': 'ahmed'}\n",
      "Please enter a new key for dictonaryfirst_name\n",
      "please enter a new value for that keyoiuqwe\n",
      "The key already exist in the current dictonary\n",
      "{'first_name': 'haris', 'last_name': 'ahmed'}\n"
     ]
    }
   ],
   "source": [
    "dictonary = {\"first_name\":\"haris\",\"last_name\":\"ahmed\"}\n",
    "print(\"Existing dictonary is\",dictonary)\n",
    "new_key = input(\"Please enter a new key for dictonary\")\n",
    "new_value = input(\"please enter a new value for that key\")\n",
    "if new_key in dictonary:\n",
    "    print(\"The key already exist in the current dictonary\")\n",
    "else:\n",
    "    dictonary[new_key] = new_value\n",
    "    print(dictonary)\n",
    "    \n",
    "print(dictonary)"
   ]
  },
  {
   "cell_type": "code",
   "execution_count": null,
   "metadata": {},
   "outputs": [],
   "source": []
  }
 ],
 "metadata": {
  "kernelspec": {
   "display_name": "Python 3",
   "language": "python",
   "name": "python3"
  },
  "language_info": {
   "codemirror_mode": {
    "name": "ipython",
    "version": 3
   },
   "file_extension": ".py",
   "mimetype": "text/x-python",
   "name": "python",
   "nbconvert_exporter": "python",
   "pygments_lexer": "ipython3",
   "version": "3.7.3"
  }
 },
 "nbformat": 4,
 "nbformat_minor": 2
}
