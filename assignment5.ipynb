{
 "cells": [
  {
   "cell_type": "markdown",
   "metadata": {},
   "source": [
    "# Question1"
   ]
  },
  {
   "cell_type": "code",
   "execution_count": 1,
   "metadata": {},
   "outputs": [
    {
     "name": "stdout",
     "output_type": "stream",
     "text": [
      "\n",
      "Enter your number for factorial:5\n",
      "\n",
      "Factorial is:  120\n"
     ]
    }
   ],
   "source": [
    "def factorial(number):\n",
    "    one_less = number - 1\n",
    "    if number < 0:\n",
    "        print(\"\\nSorry the factorial of given number does not exist\")\n",
    "    elif number == 0:\n",
    "        print(\"\\nFactorial is: 1\")\n",
    "    elif number > 0:\n",
    "        number += 1\n",
    "        c = 1\n",
    "        for i in range(1,number):\n",
    "            c *= i\n",
    "        print(\"\\nFactorial is: \",c)    \n",
    "        \n",
    "\n",
    "number = int(input(\"\\nEnter your number for factorial:\"))\n",
    "factorial(number)\n",
    "\n",
    "    \n",
    "    \n",
    "    "
   ]
  },
  {
   "cell_type": "markdown",
   "metadata": {},
   "source": [
    "# Question 2   "
   ]
  },
  {
   "cell_type": "code",
   "execution_count": 2,
   "metadata": {},
   "outputs": [
    {
     "name": "stdout",
     "output_type": "stream",
     "text": [
      "Enter your sentence/word: Hello World\n",
      "\n",
      "Total number of Upper case letters are:  2\n",
      "\n",
      "Total number of Lower case letters are:  8\n"
     ]
    }
   ],
   "source": [
    "def counter(string):\n",
    "    a = 0\n",
    "    b = 0\n",
    "    for i in string:\n",
    "        if i.isupper():\n",
    "            a += 1\n",
    "        elif i.islower():\n",
    "            b += 1\n",
    "    print(\"\\nTotal number of Upper case letters are: \",a)\n",
    "    print(\"\\nTotal number of Lower case letters are: \",b)\n",
    "string = input(\"Enter your sentence/word: \")\n",
    "\n",
    "counter(string)"
   ]
  },
  {
   "cell_type": "markdown",
   "metadata": {},
   "source": [
    "# Question 3"
   ]
  },
  {
   "cell_type": "code",
   "execution_count": 3,
   "metadata": {},
   "outputs": [
    {
     "name": "stdout",
     "output_type": "stream",
     "text": [
      "The list of numbers is [24, 42, 99, 73, 91, 90]\n",
      "The number is even: 24\n",
      "The number is even: 42\n",
      "The number is not even: 99\n",
      "The number is not even: 73\n",
      "The number is not even: 91\n",
      "The number is even: 90\n"
     ]
    }
   ],
   "source": [
    "def even(numbers):\n",
    "    for i in numbers:\n",
    "        if (i % 2) == 0:\n",
    "            print(\"The number is even:\",i)\n",
    "        elif (i % 2) != 0:\n",
    "            print(\"The number is not even:\",i)\n",
    "numbers = [24,42,99,73,91,90]\n",
    "print(\"The list of numbers is\",numbers)\n",
    "even(numbers)"
   ]
  },
  {
   "cell_type": "markdown",
   "metadata": {},
   "source": [
    "# Question 4"
   ]
  },
  {
   "cell_type": "code",
   "execution_count": 4,
   "metadata": {},
   "outputs": [
    {
     "name": "stdout",
     "output_type": "stream",
     "text": [
      "\n",
      "Enter your word: dad\n",
      "\n",
      "The given word is pallindrome\n"
     ]
    }
   ],
   "source": [
    "def palindrome(string):\n",
    "    b = len(string)\n",
    "    c = \"\"\n",
    "    minus = -1\n",
    "    for i in range(0,b): \n",
    "        c += string[minus]\n",
    "        minus -= 1\n",
    "    if string == c:\n",
    "        print(\"\\nThe given word is pallindrome\")\n",
    "    elif string != c:\n",
    "        print(\"\\nThe give word is not pallindrome\")\n",
    "    \n",
    "    \n",
    "\n",
    "string = input(\"\\nEnter your word: \")\n",
    "palindrome(string)"
   ]
  },
  {
   "cell_type": "markdown",
   "metadata": {},
   "source": [
    "# Question 5 "
   ]
  },
  {
   "cell_type": "code",
   "execution_count": 1,
   "metadata": {},
   "outputs": [
    {
     "name": "stdout",
     "output_type": "stream",
     "text": [
      "Please enter a number to check for prime: 11\n",
      "its a prime number\n"
     ]
    }
   ],
   "source": [
    "def prime(number):\n",
    "    count = 0\n",
    "    if number > 1:\n",
    "        for i in range(2,number):\n",
    "            if (number%i) == 0:\n",
    "                count +=1\n",
    "                if count > 1:\n",
    "                    break\n",
    "    if count > 0:\n",
    "        print(\"its not a prime number\")\n",
    "    else:\n",
    "        print(\"its a prime number\")\n",
    "\n",
    "number = int(input(\"Please enter a number to check for prime: \"))\n",
    "prime(number)\n",
    "            "
   ]
  },
  {
   "cell_type": "markdown",
   "metadata": {},
   "source": [
    "# Question 6"
   ]
  },
  {
   "cell_type": "code",
   "execution_count": 5,
   "metadata": {},
   "outputs": [
    {
     "name": "stdout",
     "output_type": "stream",
     "text": [
      "The coustomer has bought Eggs\n",
      "The coustomer has bought Milk\n",
      "The coustomer has bought Bread\n",
      "The coustomer has bought Butter\n",
      "The coustomer has bought Honey\n",
      "The coustomer has bought Olives\n"
     ]
    }
   ],
   "source": [
    "def coustomer(*items):\n",
    "    for item in items:\n",
    "        print(\"The coustomer has bought\",item)\n",
    "\n",
    "coustomer(\"Eggs\",\"Milk\",\"Bread\",\"Butter\",\"Honey\",\"Olives\")\n"
   ]
  },
  {
   "cell_type": "code",
   "execution_count": null,
   "metadata": {},
   "outputs": [],
   "source": []
  }
 ],
 "metadata": {
  "kernelspec": {
   "display_name": "Python 3",
   "language": "python",
   "name": "python3"
  },
  "language_info": {
   "codemirror_mode": {
    "name": "ipython",
    "version": 3
   },
   "file_extension": ".py",
   "mimetype": "text/x-python",
   "name": "python",
   "nbconvert_exporter": "python",
   "pygments_lexer": "ipython3",
   "version": "3.7.3"
  }
 },
 "nbformat": 4,
 "nbformat_minor": 2
}
