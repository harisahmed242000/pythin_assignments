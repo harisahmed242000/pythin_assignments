{
 "cells": [
  {
   "cell_type": "markdown",
   "metadata": {},
   "source": [
    "# Question6\n"
   ]
  },
  {
   "cell_type": "code",
   "execution_count": 1,
   "metadata": {},
   "outputs": [
    {
     "name": "stdout",
     "output_type": "stream",
     "text": [
      "----------------------------------------------------------\n",
      "                  Assingment Number 1              \n",
      "----------------------------------------------------------\n",
      "----------------------------------------------------------\n",
      "                  Question Number 6              \n",
      "----------------------------------------------------------\n",
      "Enter Your First Number : 4\n",
      "Enter Your Second Number : 96\n",
      "The Addition Of  4 And  96 Is : 100\n"
     ]
    }
   ],
   "source": [
    "import datetime\n",
    "\n",
    "print(\"----------------------------------------------------------\")\n",
    "print(\"                  Assingment Number 1              \")\n",
    "print(\"----------------------------------------------------------\")\n",
    "\n",
    "\n",
    "print(\"----------------------------------------------------------\")\n",
    "print(\"                  Question Number 6              \")\n",
    "print(\"----------------------------------------------------------\")\n",
    "\n",
    "a = int(input(\"Enter Your First Number : \"))\n",
    "b = int(input(\"Enter Your Second Number : \"))\n",
    "\n",
    "c = a + b\n",
    "\n",
    "print(\"The Addition Of \",a,\"And \",b,\"Is :\",c)\n",
    "\n"
   ]
  },
  {
   "cell_type": "markdown",
   "metadata": {},
   "source": [
    "# Question 4"
   ]
  },
  {
   "cell_type": "code",
   "execution_count": 1,
   "metadata": {
    "scrolled": true
   },
   "outputs": [
    {
     "name": "stdout",
     "output_type": "stream",
     "text": [
      "----------------------------------------------------------\n",
      "                  Assingment Number 2              \n",
      "----------------------------------------------------------\n",
      "----------------------------------------------------------\n",
      "                  Question Number 4              \n",
      "----------------------------------------------------------\n",
      "Dafine the Radius Of The Circul : 5\n",
      "Given Radius Of The Circul Is :  5\n",
      "Area Of The Circul Is :  78.55\n"
     ]
    }
   ],
   "source": [
    "\n",
    "print(\"----------------------------------------------------------\")\n",
    "print(\"                  Assingment Number 2              \")\n",
    "print(\"----------------------------------------------------------\")\n",
    "\n",
    "\n",
    "print(\"----------------------------------------------------------\")\n",
    "print(\"                  Question Number 4              \")\n",
    "print(\"----------------------------------------------------------\")\n",
    "\n",
    "r = int(input(\"Dafine the Radius Of The Circul : \"))\n",
    "\n",
    "pi = 3.142\n",
    "\n",
    "result = pi*(r**2)\n",
    "\n",
    "print (\"Given Radius Of The Circul Is : \", r)\n",
    "print (\"Area Of The Circul Is : \", result)\n",
    "\n"
   ]
  },
  {
   "cell_type": "markdown",
   "metadata": {},
   "source": [
    "# Question 3"
   ]
  },
  {
   "cell_type": "code",
   "execution_count": 2,
   "metadata": {},
   "outputs": [
    {
     "name": "stdout",
     "output_type": "stream",
     "text": [
      "----------------------------------------------------------\n",
      "                  Assingment Number 1              \n",
      "----------------------------------------------------------\n",
      "----------------------------------------------------------\n",
      "                  Question Number 3              \n",
      "----------------------------------------------------------\n",
      "Your Current Datetime Is :  2019-11-27 20:19:15.123268\n"
     ]
    }
   ],
   "source": [
    "import datetime\n",
    "\n",
    "print(\"----------------------------------------------------------\")\n",
    "print(\"                  Assingment Number 1              \")\n",
    "print(\"----------------------------------------------------------\")\n",
    "\n",
    "\n",
    "print(\"----------------------------------------------------------\")\n",
    "print(\"                  Question Number 3              \")\n",
    "print(\"----------------------------------------------------------\")\n",
    "\n",
    "date = str(datetime.datetime.now())\n",
    "\n",
    "print(\"Your Current Datetime Is : \",date)"
   ]
  },
  {
   "cell_type": "markdown",
   "metadata": {},
   "source": [
    "# Question 1"
   ]
  },
  {
   "cell_type": "code",
   "execution_count": 3,
   "metadata": {
    "scrolled": true
   },
   "outputs": [
    {
     "name": "stdout",
     "output_type": "stream",
     "text": [
      "----------------------------------------------------------\n",
      "                  Assingment Number 1              \n",
      "----------------------------------------------------------\n",
      "----------------------------------------------------------\n",
      "                  Question Number 1              \n",
      "----------------------------------------------------------\n",
      "\n",
      "\n",
      "\tTwinkle, twinkle, little star,  \n",
      "\t\tHow I wonder what you are!    \n",
      "\tUp above the world so high,        \n",
      "\t\tLike a diamond in the sky.  \n",
      "\tTwinkle, twinkle, little star,   \n",
      "\t\tHow I wonder what you are \n",
      "\n",
      "\n"
     ]
    }
   ],
   "source": [
    "print(\"----------------------------------------------------------\")\n",
    "print(\"                  Assingment Number 1              \")\n",
    "print(\"----------------------------------------------------------\")\n",
    "\n",
    "\n",
    "print(\"----------------------------------------------------------\")\n",
    "print(\"                  Question Number 1              \")\n",
    "print(\"----------------------------------------------------------\")\n",
    "\n",
    "print('''\n",
    "\n",
    "\tTwinkle, twinkle, little star,  \n",
    "\t\tHow I wonder what you are!    \n",
    "\tUp above the world so high,        \n",
    "\t\tLike a diamond in the sky.  \n",
    "\tTwinkle, twinkle, little star,   \n",
    "\t\tHow I wonder what you are \n",
    "\n",
    "''')\n"
   ]
  },
  {
   "cell_type": "markdown",
   "metadata": {},
   "source": [
    "# Question 5"
   ]
  },
  {
   "cell_type": "code",
   "execution_count": null,
   "metadata": {},
   "outputs": [],
   "source": [
    "print(\"----------------------------------------------------------\")\n",
    "print(\"                  Assingment Number 1              \")\n",
    "print(\"----------------------------------------------------------\")\n",
    "\n",
    "\n",
    "print(\"----------------------------------------------------------\")\n",
    "print(\"                  Question Number 5              \")\n",
    "print(\"----------------------------------------------------------\")\n",
    "\n",
    "a = input(\"Enter Your First Name : \")\n",
    "b = input(\"Enter Your Last Name : \")\n",
    "\n",
    "print(\"Name : \" ,a,b)\n",
    "\n",
    "print(\"Name In Reverse : \", b,a)\n"
   ]
  },
  {
   "cell_type": "markdown",
   "metadata": {},
   "source": [
    "# Question 2"
   ]
  },
  {
   "cell_type": "code",
   "execution_count": 4,
   "metadata": {},
   "outputs": [
    {
     "name": "stdout",
     "output_type": "stream",
     "text": [
      "----------------------------------------------------------\n",
      "                  Assingment Number 1              \n",
      "----------------------------------------------------------\n",
      "----------------------------------------------------------\n",
      "                  Question Number 2              \n",
      "----------------------------------------------------------\n",
      "Your current Python version is: 3.7.3\n"
     ]
    }
   ],
   "source": [
    "from platform import python_version\n",
    "print(\"----------------------------------------------------------\")\n",
    "print(\"                  Assingment Number 1              \")\n",
    "print(\"----------------------------------------------------------\")\n",
    "\n",
    "\n",
    "print(\"----------------------------------------------------------\")\n",
    "print(\"                  Question Number 2              \")\n",
    "print(\"----------------------------------------------------------\")\n",
    "\n",
    "print(\"Your current Python version is:\",python_version())\n"
   ]
  },
  {
   "cell_type": "code",
   "execution_count": null,
   "metadata": {},
   "outputs": [],
   "source": []
  }
 ],
 "metadata": {
  "kernelspec": {
   "display_name": "Python 3",
   "language": "python",
   "name": "python3"
  },
  "language_info": {
   "codemirror_mode": {
    "name": "ipython",
    "version": 3
   },
   "file_extension": ".py",
   "mimetype": "text/x-python",
   "name": "python",
   "nbconvert_exporter": "python",
   "pygments_lexer": "ipython3",
   "version": "3.7.3"
  }
 },
 "nbformat": 4,
 "nbformat_minor": 2
}
