{
 "cells": [
  {
   "cell_type": "markdown",
   "metadata": {},
   "source": [
    "# Question 1"
   ]
  },
  {
   "cell_type": "code",
   "execution_count": 2,
   "metadata": {},
   "outputs": [
    {
     "name": "stdout",
     "output_type": "stream",
     "text": [
      ".----------------.  .----------------.  .----------------.  .----------------.   .----------------.  .----------------.  .----------------.  .----------------.  .----------------. \n",
      "| .--------------. || .--------------. || .--------------. || .--------------. | | .--------------. || .--------------. || .--------------. || .--------------. || .--------------. \n",
      "| | ____    ____ | || |      __      | || |  _______     | || |  ___  ____   | | | |    _______   | || |  ____  ____  | || |  _________   | || |  _________   | || |  _________   | \n",
      "| ||_   \\  /   _|| || |     /  \\     | || | |_   __ \\    | || | |_  ||_  _|  | | | |   /  ___  |  | || | |_   ||   _| | || | |_   ___  |  | || | |_   ___  |  | || | |  _   _  |  | \n",
      "| |  |   \\/   |  | || |    / /\\ \\    | || |   | |__) |   | || |   | |_/ /    | | | |  |  (__ \\_|  | || |   | |__| |   | || |   | |_  \\_|  | || |   | |_  \\_|  | || | |_/ | | \\_|  | \n",
      "| |  | |\\  /| |  | || |   / ____ \\   | || |   |  __ /    | || |   |  __ \\    | | | |   '.___`-.   | || |   |  __  |   | || |   |  _|  _   | || |   |  _|  _   | || |     | |      | \n",
      "| | _| |_\\/_| |_ | || | _/ /    \\ \\_ | || |  _| |  \\ \\_  | || |  _| |  \\ \\_  | | | |  |`\\____) |  | || |  _| |  | |_  | || |  _| |___/ |  | || |  _| |___/ |  | || |    _| |_     | \n",
      "| ||_____||_____|| || ||____|  |____|| || | |____| |___| | || | |____||____| | | | |  |_______.'  | || | |____||____| | || | |_________|  | || | |_________|  | || |   |_____|    | \n",
      "| |              | || |              | || |              | || |              | | | |              | || |              | || |              | || |              | || |              | \n",
      "| '--------------' || '--------------' || '--------------' || '--------------' | | '--------------' || '--------------' || '--------------' || '--------------' || '--------------' \n",
      " '----------------'  '----------------'  '----------------'  '----------------'   '----------------'  '----------------'  '----------------'  '----------------'  '----------------'\n",
      "Enter Your Full Nme\n",
      "haris\n",
      "Father's Name\n",
      "shaikh mehmood ahmed\n",
      "Enter Your Roll Number:\n",
      "122313\n",
      "please enter you marks below accordingly out of 100\n",
      "\n",
      "Enter your marks in Mathematics\n",
      "82\n",
      "Enter your marks in Physics\n",
      "97\n",
      "Enter your marks in Chemistry\n",
      "77\n",
      "Enter your marks in Urdu\n",
      "79\n",
      "Enter your marks in PakistanStudies out of 50\n",
      "45\n",
      "Great job youv'e got A+ Grade\n",
      "Name =  haris\n",
      "Roll Number =  122313\n",
      "Total marks obtained =  380\n",
      "Your percentage =  84.44444444444444\n"
     ]
    }
   ],
   "source": [
    "print(\".----------------.  .----------------.  .----------------.  .----------------.   .----------------.  .----------------.  .----------------.  .----------------.  .----------------. \")\n",
    "print(\"| .--------------. || .--------------. || .--------------. || .--------------. | | .--------------. || .--------------. || .--------------. || .--------------. || .--------------. \")\n",
    "print(\"| | ____    ____ | || |      __      | || |  _______     | || |  ___  ____   | | | |    _______   | || |  ____  ____  | || |  _________   | || |  _________   | || |  _________   | \")\n",
    "print(\"| ||_   \\  /   _|| || |     /  \\     | || | |_   __ \\    | || | |_  ||_  _|  | | | |   /  ___  |  | || | |_   ||   _| | || | |_   ___  |  | || | |_   ___  |  | || | |  _   _  |  | \")\n",
    "print(\"| |  |   \\/   |  | || |    / /\\ \\    | || |   | |__) |   | || |   | |_/ /    | | | |  |  (__ \\_|  | || |   | |__| |   | || |   | |_  \\_|  | || |   | |_  \\_|  | || | |_/ | | \\_|  | \")\n",
    "print(\"| |  | |\\  /| |  | || |   / ____ \\   | || |   |  __ /    | || |   |  __ \\    | | | |   '.___`-.   | || |   |  __  |   | || |   |  _|  _   | || |   |  _|  _   | || |     | |      | \")\n",
    "print(\"| | _| |_\\/_| |_ | || | _/ /    \\ \\_ | || |  _| |  \\ \\_  | || |  _| |  \\ \\_  | | | |  |`\\____) |  | || |  _| |  | |_  | || |  _| |___/ |  | || |  _| |___/ |  | || |    _| |_     | \")\n",
    "print(\"| ||_____||_____|| || ||____|  |____|| || | |____| |___| | || | |____||____| | | | |  |_______.'  | || | |____||____| | || | |_________|  | || | |_________|  | || |   |_____|    | \")\n",
    "print(\"| |              | || |              | || |              | || |              | | | |              | || |              | || |              | || |              | || |              | \")\n",
    "print(\"| '--------------' || '--------------' || '--------------' || '--------------' | | '--------------' || '--------------' || '--------------' || '--------------' || '--------------' \")\n",
    "print(\" '----------------'  '----------------'  '----------------'  '----------------'   '----------------'  '----------------'  '----------------'  '----------------'  '----------------'\")\n",
    "\n",
    "#input for bio\n",
    "name = input(\"Enter Your Full Nme\\n\")\n",
    "fname = input(\"Father's Name\\n\")\n",
    "roll_no = input(\"Enter Your Roll Number:\\n\")\n",
    "\n",
    "#input for marks\n",
    "print(\"please enter you marks below accordingly out of 100\\n\")\n",
    "maths = int(input(\"Enter your marks in Mathematics\\n\"))\n",
    "\n",
    "phys = int(input(\"Enter your marks in Physics\\n\"))\n",
    "\n",
    "chem = int(input(\"Enter your marks in Chemistry\\n\"))\n",
    "\n",
    "urdu = int(input(\"Enter your marks in Urdu\\n\"))\n",
    "\n",
    "pst = int(input(\"Enter your marks in PakistanStudies out of 50\\n\"))\n",
    "\n",
    "\n",
    "tot = maths + phys + chem + urdu + pst\n",
    "\n",
    "per = tot/450 * 100\n",
    "\n",
    " \n",
    "\n",
    "if(per>100):\n",
    "    \n",
    "    print(\"Error\")\n",
    "\n",
    "elif(per>=80 and per<100):\n",
    "        \n",
    "        print(\"Great job youv'e got A+ Grade\")\n",
    "\n",
    "        \n",
    "elif(per>=70):\n",
    "       \n",
    "        print(\"Great but could have done better you got A Grade\")\n",
    "\n",
    "            \n",
    "elif(per>=60):\n",
    "       \n",
    "        print(\"Good but you can do much more you got B Grade\")\n",
    "\n",
    "        \n",
    "elif(per>=50):\n",
    "        \n",
    "        print(\"You can do a lot better than this just dont giveup you got C Grade\")\n",
    "\n",
    "elif(per>=40):\n",
    "        \n",
    "        print(\"You can do a lot better than this just dont giveup you got D Grade\")\n",
    "\n",
    "        \n",
    "elif(per<40):\n",
    "        \n",
    "        print(\"Sorry you failed but don't give up you can improve with practice and persistence you are Fail\")\n",
    "\n",
    "\n",
    "# print(\"-------------------------------------------------------------------------------------------------------\")\n",
    "# print(\"|                                              Report                                                 |\")\n",
    "# print(\"|                                                                                                     |\")\n",
    "# print(\"-------------------------------------------------------------------------------------------------------\")\n",
    "\n",
    "print(\"Name = \",name)\n",
    "print(\"Roll Number = \",roll_no)\n",
    "print(\"Total marks obtained = \",tot)\n",
    "print(\"Your percentage = \",per)\n"
   ]
  },
  {
   "cell_type": "markdown",
   "metadata": {},
   "source": [
    "# Question 2"
   ]
  },
  {
   "cell_type": "code",
   "execution_count": 3,
   "metadata": {},
   "outputs": [
    {
     "name": "stdout",
     "output_type": "stream",
     "text": [
      "Please insert a number4242\n",
      "Give number is EVEN\n"
     ]
    }
   ],
   "source": [
    "number = int(input(\"Please insert a number\"))\n",
    "answer = number % 2\n",
    "if answer == 0:\n",
    "    print(\"Give number is EVEN\")\n",
    "else:\n",
    "    print(\"Give number is ODD\")"
   ]
  },
  {
   "cell_type": "markdown",
   "metadata": {},
   "source": [
    "# Question 3"
   ]
  },
  {
   "cell_type": "code",
   "execution_count": 4,
   "metadata": {},
   "outputs": [
    {
     "name": "stdout",
     "output_type": "stream",
     "text": [
      "The lenght Of the list is :  4\n"
     ]
    }
   ],
   "source": [
    "a  = [\"Hello World\",10,\"you are awsome\",\"python\"]\n",
    "\n",
    "print(\"The lenght Of the list is : \",len(a))\n"
   ]
  },
  {
   "cell_type": "markdown",
   "metadata": {},
   "source": [
    "# Question 4"
   ]
  },
  {
   "cell_type": "code",
   "execution_count": 7,
   "metadata": {},
   "outputs": [
    {
     "name": "stdout",
     "output_type": "stream",
     "text": [
      "The list is [10, 11, 15]\n",
      "The sum of all numeric values in list is: 36\n"
     ]
    }
   ],
   "source": [
    "number  = [10,11,15]\n",
    "print(\"The list is\",number)\n",
    "summ = 0\n",
    "for i in number:\n",
    "    summ = summ + i\n",
    "print(\"The sum of all numeric values in list is:\",summ)\n",
    "\n"
   ]
  },
  {
   "cell_type": "markdown",
   "metadata": {},
   "source": [
    "# Question 5"
   ]
  },
  {
   "cell_type": "code",
   "execution_count": 8,
   "metadata": {},
   "outputs": [
    {
     "name": "stdout",
     "output_type": "stream",
     "text": [
      "The list is [10, 25, 69, 94, -94, 0.5, 1000, 0.7734]\n",
      "The largest number in the list:  1000\n"
     ]
    }
   ],
   "source": [
    "numbers = [10,25,69,94,-94,1/2,1000,0.7734]\n",
    "print(\"The list is\",numbers)\n",
    "print(\"The largest number in the list: \",max(numbers))\n"
   ]
  },
  {
   "cell_type": "markdown",
   "metadata": {},
   "source": [
    "# Question 6"
   ]
  },
  {
   "cell_type": "code",
   "execution_count": 11,
   "metadata": {},
   "outputs": [
    {
     "name": "stdout",
     "output_type": "stream",
     "text": [
      "The list is [1, 2, 3, 4.9, 5, 8, 13, 21, 34, 55, 89]\n",
      "Numbers which are lesser than 5 present in the list are: 1\n",
      "Numbers which are lesser than 5 present in the list are: 2\n",
      "Numbers which are lesser than 5 present in the list are: 3\n",
      "Numbers which are lesser than 5 present in the list are: 4.9\n"
     ]
    }
   ],
   "source": [
    "given_list = [1,2,3,4.9,5,8,13,21,34,55,89]\n",
    "print(\"The list is\",given_list)\n",
    "for i in given_list:\n",
    "    if i < 5:\n",
    "        print(\"Numbers which are lesser than 5 present in the list are:\",i)\n",
    "        "
   ]
  },
  {
   "cell_type": "code",
   "execution_count": null,
   "metadata": {},
   "outputs": [],
   "source": []
  }
 ],
 "metadata": {
  "kernelspec": {
   "display_name": "Python 3",
   "language": "python",
   "name": "python3"
  },
  "language_info": {
   "codemirror_mode": {
    "name": "ipython",
    "version": 3
   },
   "file_extension": ".py",
   "mimetype": "text/x-python",
   "name": "python",
   "nbconvert_exporter": "python",
   "pygments_lexer": "ipython3",
   "version": "3.7.3"
  }
 },
 "nbformat": 4,
 "nbformat_minor": 2
}
